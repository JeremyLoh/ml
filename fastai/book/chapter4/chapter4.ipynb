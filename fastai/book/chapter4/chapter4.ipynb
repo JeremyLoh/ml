{
 "cells": [
  {
   "cell_type": "markdown",
   "source": [
    "# Chapter 4 of book: Mnist Basics - Under the hood: Training a Digit Classifier\n",
    "https://nbviewer.org/github/fastai/fastbook/blob/master/04_mnist_basics.ipynb\n"
   ],
   "metadata": {
    "collapsed": false
   },
   "id": "8ff08b5c265ee3ea"
  },
  {
   "cell_type": "code",
   "outputs": [
    {
     "name": "stdout",
     "output_type": "stream",
     "text": [
      "True\n",
      "1\n",
      "<torch.cuda.device object at 0x0000018A74455550>\n",
      "NVIDIA GeForce RTX 3070\n"
     ]
    }
   ],
   "source": [
    "# install pytorch - https://pytorch.org/get-started/locally/\n",
    "import torch\n",
    "\n",
    "print(torch.cuda.is_available())\n",
    "print(torch.cuda.device_count())\n",
    "\n",
    "current_device = torch.cuda.current_device()\n",
    "print(torch.cuda.device(current_device))\n",
    "print(torch.cuda.get_device_name(current_device))"
   ],
   "metadata": {
    "collapsed": false,
    "ExecuteTime": {
     "end_time": "2024-01-27T11:42:31.786837Z",
     "start_time": "2024-01-27T11:42:29.795580600Z"
    }
   },
   "id": "1e43cf97d381bb2",
   "execution_count": 1
  }
 ],
 "metadata": {
  "kernelspec": {
   "display_name": "Python 3",
   "language": "python",
   "name": "python3"
  },
  "language_info": {
   "codemirror_mode": {
    "name": "ipython",
    "version": 2
   },
   "file_extension": ".py",
   "mimetype": "text/x-python",
   "name": "python",
   "nbconvert_exporter": "python",
   "pygments_lexer": "ipython2",
   "version": "2.7.6"
  }
 },
 "nbformat": 4,
 "nbformat_minor": 5
}
