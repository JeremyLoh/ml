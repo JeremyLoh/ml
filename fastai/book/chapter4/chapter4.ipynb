{
 "cells": [
  {
   "cell_type": "markdown",
   "id": "8ff08b5c265ee3ea",
   "metadata": {
    "collapsed": false,
    "jupyter": {
     "outputs_hidden": false
    }
   },
   "source": [
    "# Chapter 4 of book: Mnist Basics - Under the hood: Training a Digit Classifier\n",
    "https://nbviewer.org/github/fastai/fastbook/blob/master/04_mnist_basics.ipynb\n",
    "\n",
    "We will start by using computer vision to introduce fundamental tools and concepts for deep learning\n",
    "- discuss the roles of arrays and tensors and of broadcasting, a powerful way to use them expressively\n",
    "- stochastic gradient descent (SGD), mechanism for learning by updating weights automatically\n",
    "- choice of a loss function for our basic classification task\n",
    "- role of mini-batches\n",
    "- describe the math that a basic neural network is actually doing\n",
    "\n",
    "This chapter is a foundational chapter, all concepts depend on each other\n",
    "\n",
    "First steps is to consider how images are represented in a computer\n",
    "\n",
    "# Pixels: The Foundations of Computer Vision\n",
    "In order to understand what happens in a computer vision model, we need to understand how computers handle images\n",
    "We will use the MNIST dataset https://en.wikipedia.org/wiki/MNIST_database\n",
    "A dataset of images of handwritten digits"
   ]
  },
  {
   "cell_type": "code",
   "execution_count": null,
   "id": "1e43cf97d381bb2",
   "metadata": {
    "collapsed": false,
    "is_executing": true,
    "jupyter": {
     "outputs_hidden": false
    }
   },
   "outputs": [],
   "source": [
    "# install pytorch - https://pytorch.org/get-started/locally/\n",
    "import torch\n",
    "\n",
    "print(torch.cuda.is_available())\n",
    "print(torch.cuda.device_count())\n",
    "\n",
    "current_device = torch.cuda.current_device()\n",
    "print(torch.cuda.device(current_device))\n",
    "print(torch.cuda.get_device_name(current_device))"
   ]
  },
  {
   "cell_type": "code",
   "execution_count": 1,
   "id": "237aea1e55f63a50",
   "metadata": {
    "ExecuteTime": {
     "start_time": "2024-01-31T15:32:56.590542300Z"
    },
    "collapsed": false,
    "is_executing": true,
    "jupyter": {
     "outputs_hidden": false
    }
   },
   "outputs": [
    {
     "name": "stdout",
     "output_type": "stream",
     "text": [
      "C:\\Users\\jerem\\.fastai\\data\\mnist_sample\n",
      "[Path('C:/Users/jerem/.fastai/data/mnist_sample/labels.csv'), Path('C:/Users/jerem/.fastai/data/mnist_sample/train'), Path('C:/Users/jerem/.fastai/data/mnist_sample/valid')]\n"
     ]
    }
   ],
   "source": [
    "# for initial tutorial, we try to create a model for classifying any image as a 3 or 7\n",
    "from fastai.vision.all import *\n",
    "\n",
    "path = untar_data(URLs.MNIST_SAMPLE)\n",
    "print(path)\n",
    "\n",
    "# see what is in this directory\n",
    "# a method in fastai class called \"L\", like a list\n",
    "# the .ls() method will print the count of items also\n",
    "print(path.ls())"
   ]
  },
  {
   "cell_type": "code",
   "execution_count": 4,
   "id": "faa4d2ea-3165-45cc-9c0c-100adf9c72ab",
   "metadata": {},
   "outputs": [
    {
     "data": {
      "text/plain": [
       "(#2) [Path('C:/Users/jerem/.fastai/data/mnist_sample/train/3'),Path('C:/Users/jerem/.fastai/data/mnist_sample/train/7')]"
      ]
     },
     "execution_count": 4,
     "metadata": {},
     "output_type": "execute_result"
    }
   ],
   "source": [
    "# There are train and valid dataset in separate folders\n",
    "(path/\"train\").ls()\n",
    "\n",
    "# we say that \"3\" and \"7\" are the labels (or targets) in this dataset"
   ]
  },
  {
   "cell_type": "code",
   "execution_count": 3,
   "id": "3fb884ad-5b3e-4d57-b588-b26f7028d4b9",
   "metadata": {
    "ExecuteTime": {
     "end_time": "2024-01-30T14:02:52.978210900Z",
     "start_time": "2024-01-30T14:02:52.894724600Z"
    }
   },
   "outputs": [
    {
     "data": {
      "text/plain": [
       "(#6131) [Path('C:/Users/jerem/.fastai/data/mnist_sample/train/3/10.png'),Path('C:/Users/jerem/.fastai/data/mnist_sample/train/3/10000.png'),Path('C:/Users/jerem/.fastai/data/mnist_sample/train/3/10011.png'),Path('C:/Users/jerem/.fastai/data/mnist_sample/train/3/10031.png'),Path('C:/Users/jerem/.fastai/data/mnist_sample/train/3/10034.png'),Path('C:/Users/jerem/.fastai/data/mnist_sample/train/3/10042.png'),Path('C:/Users/jerem/.fastai/data/mnist_sample/train/3/10052.png'),Path('C:/Users/jerem/.fastai/data/mnist_sample/train/3/1007.png'),Path('C:/Users/jerem/.fastai/data/mnist_sample/train/3/10074.png'),Path('C:/Users/jerem/.fastai/data/mnist_sample/train/3/10091.png')...]"
      ]
     },
     "execution_count": 3,
     "metadata": {},
     "output_type": "execute_result"
    }
   ],
   "source": [
    "# we will do a sorted on the files so that the order is the same\n",
    "threes = (path/\"train\"/\"3\").ls().sorted()\n",
    "sevens = (path/\"train\"/\"7\").ls().sorted()\n",
    "\n",
    "threes"
   ]
  },
  {
   "cell_type": "code",
   "execution_count": 11,
   "id": "3c47fb28-ee51-4a54-bfb9-7df516cd6917",
   "metadata": {},
   "outputs": [
    {
     "data": {
      "image/jpeg": "[encoded data removed]",
      "image/png": "[encoded data removed]",
      "text/plain": [
       "<PIL.PngImagePlugin.PngImageFile image mode=L size=28x28>"
      ]
     },
     "execution_count": 11,
     "metadata": {},
     "output_type": "execute_result"
    }
   ],
   "source": [
    "# taking a look at one of the three image\n",
    "from PIL import Image\n",
    "# help(Image)\n",
    "\n",
    "im3_path = threes[1]\n",
    "im3 = Image.open(im3_path)\n",
    "im3"
   ]
  },
  {
   "cell_type": "markdown",
   "id": "d63dcf1e-488c-4347-97df-b4338c373288",
   "metadata": {},
   "source": [
    "We are using the `Image` class from Python Imaging Library (PIL), the most widely used Python package for opening, manipulating, and viewing images\n",
    "\n",
    "In a computer, everything is represented as a number\n",
    "To view the numbers that make up this image, we have to convert it to a NumPy array or a PyTorch tensor"
   ]
  },
  {
   "cell_type": "code",
   "execution_count": 14,
   "id": "310dda1e-9cec-4565-b1e7-c1ec71a60077",
   "metadata": {},
   "outputs": [
    {
     "data": {
      "text/plain": [
       "array([[  0,   0,   0,   0,   0,   0],\n",
       "       [  0,   0,   0,   0,   0,  29],\n",
       "       [  0,   0,   0,  48, 166, 224],\n",
       "       [  0,  93, 244, 249, 253, 187],\n",
       "       [  0, 107, 253, 253, 230,  48],\n",
       "       [  0,   3,  20,  20,  15,   0]], dtype=uint8)"
      ]
     },
     "execution_count": 14,
     "metadata": {},
     "output_type": "execute_result"
    }
   ],
   "source": [
    "# e.g. a section of the image, converted to NumPy array\n",
    "# help(array)\n",
    "# 4:10 means we request the rows from index 4 (included) to index 10 (not included).\n",
    "# same for the columns\n",
    "# NumPy indexes from top to bottom and left to right\n",
    "# so we are seeing the top left corner of the image\n",
    "array(im3)[4:10, 4:10]"
   ]
  },
  {
   "cell_type": "code",
   "execution_count": 15,
   "id": "7844ce01-d3fa-4235-bfc3-24d23f9c0745",
   "metadata": {},
   "outputs": [
    {
     "data": {
      "text/plain": [
       "tensor([[  0,   0,   0,   0,   0,   0],\n",
       "        [  0,   0,   0,   0,   0,  29],\n",
       "        [  0,   0,   0,  48, 166, 224],\n",
       "        [  0,  93, 244, 249, 253, 187],\n",
       "        [  0, 107, 253, 253, 230,  48],\n",
       "        [  0,   3,  20,  20,  15,   0]], dtype=torch.uint8)"
      ]
     },
     "execution_count": 15,
     "metadata": {},
     "output_type": "execute_result"
    }
   ],
   "source": [
    "# same thing, as a PyTorch tensor instead\n",
    "tensor(im3)[4:10, 4:10]"
   ]
  },
  {
   "cell_type": "code",
   "execution_count": 27,
   "id": "86f03920-23c3-4bb1-b47c-3be191301509",
   "metadata": {},
   "outputs": [
    {
     "data": {
      "text/html": [
       "<style type=\"text/css\">\n",
       "#T_cac10_row0_col0, #T_cac10_row0_col1, #T_cac10_row0_col2, #T_cac10_row0_col3, #T_cac10_row0_col4, #T_cac10_row0_col5, #T_cac10_row0_col6, #T_cac10_row0_col7, #T_cac10_row0_col8, #T_cac10_row0_col9, #T_cac10_row0_col10, #T_cac10_row0_col11, #T_cac10_row0_col12, #T_cac10_row0_col13, #T_cac10_row0_col14, #T_cac10_row0_col15, #T_cac10_row0_col16, #T_cac10_row0_col17, #T_cac10_row1_col0, #T_cac10_row1_col1, #T_cac10_row1_col2, #T_cac10_row1_col3, #T_cac10_row1_col4, #T_cac10_row1_col15, #T_cac10_row1_col16, #T_cac10_row1_col17, #T_cac10_row2_col0, #T_cac10_row2_col1, #T_cac10_row2_col2, #T_cac10_row2_col15, #T_cac10_row2_col16, #T_cac10_row2_col17, #T_cac10_row3_col0, #T_cac10_row3_col15, #T_cac10_row3_col16, #T_cac10_row3_col17, #T_cac10_row4_col0, #T_cac10_row4_col6, #T_cac10_row4_col7, #T_cac10_row4_col8, #T_cac10_row4_col9, #T_cac10_row4_col10, #T_cac10_row4_col15, #T_cac10_row4_col16, #T_cac10_row4_col17, #T_cac10_row5_col0, #T_cac10_row5_col5, #T_cac10_row5_col6, #T_cac10_row5_col7, #T_cac10_row5_col8, #T_cac10_row5_col9, #T_cac10_row5_col15, #T_cac10_row5_col16, #T_cac10_row5_col17, #T_cac10_row6_col0, #T_cac10_row6_col1, #T_cac10_row6_col2, #T_cac10_row6_col3, #T_cac10_row6_col4, #T_cac10_row6_col5, #T_cac10_row6_col6, #T_cac10_row6_col7, #T_cac10_row6_col8, #T_cac10_row6_col9, #T_cac10_row6_col14, #T_cac10_row6_col15, #T_cac10_row6_col16, #T_cac10_row6_col17, #T_cac10_row7_col0, #T_cac10_row7_col1, #T_cac10_row7_col2, #T_cac10_row7_col3, #T_cac10_row7_col4, #T_cac10_row7_col5, #T_cac10_row7_col6, #T_cac10_row7_col13, #T_cac10_row7_col14, #T_cac10_row7_col15, #T_cac10_row7_col16, #T_cac10_row7_col17, #T_cac10_row8_col0, #T_cac10_row8_col1, #T_cac10_row8_col2, #T_cac10_row8_col3, #T_cac10_row8_col4, #T_cac10_row8_col13, #T_cac10_row8_col14, #T_cac10_row8_col15, #T_cac10_row8_col16, #T_cac10_row8_col17, #T_cac10_row9_col0, #T_cac10_row9_col1, #T_cac10_row9_col2, #T_cac10_row9_col3, #T_cac10_row9_col4, #T_cac10_row9_col16, #T_cac10_row9_col17, #T_cac10_row10_col0, #T_cac10_row10_col1, #T_cac10_row10_col2, #T_cac10_row10_col3, #T_cac10_row10_col4, #T_cac10_row10_col5, #T_cac10_row10_col6, #T_cac10_row10_col17 {\n",
       "  font-size: 8pt;\n",
       "  background-color: #ffffff;\n",
       "  color: #000000;\n",
       "}\n",
       "#T_cac10_row1_col5 {\n",
       "  font-size: 8pt;\n",
       "  background-color: #efefef;\n",
       "  color: #000000;\n",
       "}\n",
       "#T_cac10_row1_col6, #T_cac10_row1_col13 {\n",
       "  font-size: 8pt;\n",
       "  background-color: #7c7c7c;\n",
       "  color: #f1f1f1;\n",
       "}\n",
       "#T_cac10_row1_col7 {\n",
       "  font-size: 8pt;\n",
       "  background-color: #4a4a4a;\n",
       "  color: #f1f1f1;\n",
       "}\n",
       "#T_cac10_row1_col8, #T_cac10_row1_col9, #T_cac10_row1_col10, #T_cac10_row2_col5, #T_cac10_row2_col6, #T_cac10_row2_col7, #T_cac10_row2_col11, #T_cac10_row2_col12, #T_cac10_row2_col13, #T_cac10_row3_col4, #T_cac10_row3_col12, #T_cac10_row3_col13, #T_cac10_row4_col1, #T_cac10_row4_col2, #T_cac10_row4_col3, #T_cac10_row4_col12, #T_cac10_row4_col13, #T_cac10_row5_col12, #T_cac10_row6_col11, #T_cac10_row9_col11, #T_cac10_row10_col11, #T_cac10_row10_col12, #T_cac10_row10_col13, #T_cac10_row10_col14, #T_cac10_row10_col15, #T_cac10_row10_col16 {\n",
       "  font-size: 8pt;\n",
       "  background-color: #000000;\n",
       "  color: #f1f1f1;\n",
       "}\n",
       "#T_cac10_row1_col11 {\n",
       "  font-size: 8pt;\n",
       "  background-color: #606060;\n",
       "  color: #f1f1f1;\n",
       "}\n",
       "#T_cac10_row1_col12 {\n",
       "  font-size: 8pt;\n",
       "  background-color: #4d4d4d;\n",
       "  color: #f1f1f1;\n",
       "}\n",
       "#T_cac10_row1_col14 {\n",
       "  font-size: 8pt;\n",
       "  background-color: #bbbbbb;\n",
       "  color: #000000;\n",
       "}\n",
       "#T_cac10_row2_col3 {\n",
       "  font-size: 8pt;\n",
       "  background-color: #e4e4e4;\n",
       "  color: #000000;\n",
       "}\n",
       "#T_cac10_row2_col4, #T_cac10_row8_col6 {\n",
       "  font-size: 8pt;\n",
       "  background-color: #6b6b6b;\n",
       "  color: #f1f1f1;\n",
       "}\n",
       "#T_cac10_row2_col8, #T_cac10_row2_col14, #T_cac10_row3_col14 {\n",
       "  font-size: 8pt;\n",
       "  background-color: #171717;\n",
       "  color: #f1f1f1;\n",
       "}\n",
       "#T_cac10_row2_col9, #T_cac10_row3_col11 {\n",
       "  font-size: 8pt;\n",
       "  background-color: #4b4b4b;\n",
       "  color: #f1f1f1;\n",
       "}\n",
       "#T_cac10_row2_col10, #T_cac10_row7_col10, #T_cac10_row8_col8, #T_cac10_row8_col10, #T_cac10_row9_col8, #T_cac10_row9_col10 {\n",
       "  font-size: 8pt;\n",
       "  background-color: #010101;\n",
       "  color: #f1f1f1;\n",
       "}\n",
       "#T_cac10_row3_col1 {\n",
       "  font-size: 8pt;\n",
       "  background-color: #272727;\n",
       "  color: #f1f1f1;\n",
       "}\n",
       "#T_cac10_row3_col2 {\n",
       "  font-size: 8pt;\n",
       "  background-color: #0a0a0a;\n",
       "  color: #f1f1f1;\n",
       "}\n",
       "#T_cac10_row3_col3 {\n",
       "  font-size: 8pt;\n",
       "  background-color: #050505;\n",
       "  color: #f1f1f1;\n",
       "}\n",
       "#T_cac10_row3_col5 {\n",
       "  font-size: 8pt;\n",
       "  background-color: #333333;\n",
       "  color: #f1f1f1;\n",
       "}\n",
       "#T_cac10_row3_col6 {\n",
       "  font-size: 8pt;\n",
       "  background-color: #e6e6e6;\n",
       "  color: #000000;\n",
       "}\n",
       "#T_cac10_row3_col7, #T_cac10_row3_col10 {\n",
       "  font-size: 8pt;\n",
       "  background-color: #fafafa;\n",
       "  color: #000000;\n",
       "}\n",
       "#T_cac10_row3_col8 {\n",
       "  font-size: 8pt;\n",
       "  background-color: #fbfbfb;\n",
       "  color: #000000;\n",
       "}\n",
       "#T_cac10_row3_col9 {\n",
       "  font-size: 8pt;\n",
       "  background-color: #fdfdfd;\n",
       "  color: #000000;\n",
       "}\n",
       "#T_cac10_row4_col4 {\n",
       "  font-size: 8pt;\n",
       "  background-color: #1b1b1b;\n",
       "  color: #f1f1f1;\n",
       "}\n",
       "#T_cac10_row4_col5 {\n",
       "  font-size: 8pt;\n",
       "  background-color: #e0e0e0;\n",
       "  color: #000000;\n",
       "}\n",
       "#T_cac10_row4_col11 {\n",
       "  font-size: 8pt;\n",
       "  background-color: #4e4e4e;\n",
       "  color: #f1f1f1;\n",
       "}\n",
       "#T_cac10_row4_col14 {\n",
       "  font-size: 8pt;\n",
       "  background-color: #767676;\n",
       "  color: #f1f1f1;\n",
       "}\n",
       "#T_cac10_row5_col1 {\n",
       "  font-size: 8pt;\n",
       "  background-color: #fcfcfc;\n",
       "  color: #000000;\n",
       "}\n",
       "#T_cac10_row5_col2, #T_cac10_row5_col3 {\n",
       "  font-size: 8pt;\n",
       "  background-color: #f6f6f6;\n",
       "  color: #000000;\n",
       "}\n",
       "#T_cac10_row5_col4, #T_cac10_row7_col7 {\n",
       "  font-size: 8pt;\n",
       "  background-color: #f8f8f8;\n",
       "  color: #000000;\n",
       "}\n",
       "#T_cac10_row5_col10, #T_cac10_row10_col7 {\n",
       "  font-size: 8pt;\n",
       "  background-color: #e8e8e8;\n",
       "  color: #000000;\n",
       "}\n",
       "#T_cac10_row5_col11 {\n",
       "  font-size: 8pt;\n",
       "  background-color: #222222;\n",
       "  color: #f1f1f1;\n",
       "}\n",
       "#T_cac10_row5_col13, #T_cac10_row6_col12 {\n",
       "  font-size: 8pt;\n",
       "  background-color: #090909;\n",
       "  color: #f1f1f1;\n",
       "}\n",
       "#T_cac10_row5_col14 {\n",
       "  font-size: 8pt;\n",
       "  background-color: #d0d0d0;\n",
       "  color: #000000;\n",
       "}\n",
       "#T_cac10_row6_col10, #T_cac10_row7_col11, #T_cac10_row9_col6 {\n",
       "  font-size: 8pt;\n",
       "  background-color: #060606;\n",
       "  color: #f1f1f1;\n",
       "}\n",
       "#T_cac10_row6_col13 {\n",
       "  font-size: 8pt;\n",
       "  background-color: #979797;\n",
       "  color: #f1f1f1;\n",
       "}\n",
       "#T_cac10_row7_col8 {\n",
       "  font-size: 8pt;\n",
       "  background-color: #b6b6b6;\n",
       "  color: #000000;\n",
       "}\n",
       "#T_cac10_row7_col9 {\n",
       "  font-size: 8pt;\n",
       "  background-color: #252525;\n",
       "  color: #f1f1f1;\n",
       "}\n",
       "#T_cac10_row7_col12 {\n",
       "  font-size: 8pt;\n",
       "  background-color: #999999;\n",
       "  color: #f1f1f1;\n",
       "}\n",
       "#T_cac10_row8_col5 {\n",
       "  font-size: 8pt;\n",
       "  background-color: #f9f9f9;\n",
       "  color: #000000;\n",
       "}\n",
       "#T_cac10_row8_col7 {\n",
       "  font-size: 8pt;\n",
       "  background-color: #101010;\n",
       "  color: #f1f1f1;\n",
       "}\n",
       "#T_cac10_row8_col9, #T_cac10_row9_col9 {\n",
       "  font-size: 8pt;\n",
       "  background-color: #020202;\n",
       "  color: #f1f1f1;\n",
       "}\n",
       "#T_cac10_row8_col11 {\n",
       "  font-size: 8pt;\n",
       "  background-color: #545454;\n",
       "  color: #f1f1f1;\n",
       "}\n",
       "#T_cac10_row8_col12 {\n",
       "  font-size: 8pt;\n",
       "  background-color: #f1f1f1;\n",
       "  color: #000000;\n",
       "}\n",
       "#T_cac10_row9_col5 {\n",
       "  font-size: 8pt;\n",
       "  background-color: #f7f7f7;\n",
       "  color: #000000;\n",
       "}\n",
       "#T_cac10_row9_col7 {\n",
       "  font-size: 8pt;\n",
       "  background-color: #030303;\n",
       "  color: #f1f1f1;\n",
       "}\n",
       "#T_cac10_row9_col12 {\n",
       "  font-size: 8pt;\n",
       "  background-color: #181818;\n",
       "  color: #f1f1f1;\n",
       "}\n",
       "#T_cac10_row9_col13 {\n",
       "  font-size: 8pt;\n",
       "  background-color: #303030;\n",
       "  color: #f1f1f1;\n",
       "}\n",
       "#T_cac10_row9_col14 {\n",
       "  font-size: 8pt;\n",
       "  background-color: #a9a9a9;\n",
       "  color: #f1f1f1;\n",
       "}\n",
       "#T_cac10_row9_col15 {\n",
       "  font-size: 8pt;\n",
       "  background-color: #fefefe;\n",
       "  color: #000000;\n",
       "}\n",
       "#T_cac10_row10_col8, #T_cac10_row10_col9 {\n",
       "  font-size: 8pt;\n",
       "  background-color: #bababa;\n",
       "  color: #000000;\n",
       "}\n",
       "#T_cac10_row10_col10 {\n",
       "  font-size: 8pt;\n",
       "  background-color: #393939;\n",
       "  color: #f1f1f1;\n",
       "}\n",
       "</style>\n",
       "<table id=\"T_cac10\">\n",
       "  <thead>\n",
       "    <tr>\n",
       "      <th class=\"blank level0\" >&nbsp;</th>\n",
       "      <th id=\"T_cac10_level0_col0\" class=\"col_heading level0 col0\" >0</th>\n",
       "      <th id=\"T_cac10_level0_col1\" class=\"col_heading level0 col1\" >1</th>\n",
       "      <th id=\"T_cac10_level0_col2\" class=\"col_heading level0 col2\" >2</th>\n",
       "      <th id=\"T_cac10_level0_col3\" class=\"col_heading level0 col3\" >3</th>\n",
       "      <th id=\"T_cac10_level0_col4\" class=\"col_heading level0 col4\" >4</th>\n",
       "      <th id=\"T_cac10_level0_col5\" class=\"col_heading level0 col5\" >5</th>\n",
       "      <th id=\"T_cac10_level0_col6\" class=\"col_heading level0 col6\" >6</th>\n",
       "      <th id=\"T_cac10_level0_col7\" class=\"col_heading level0 col7\" >7</th>\n",
       "      <th id=\"T_cac10_level0_col8\" class=\"col_heading level0 col8\" >8</th>\n",
       "      <th id=\"T_cac10_level0_col9\" class=\"col_heading level0 col9\" >9</th>\n",
       "      <th id=\"T_cac10_level0_col10\" class=\"col_heading level0 col10\" >10</th>\n",
       "      <th id=\"T_cac10_level0_col11\" class=\"col_heading level0 col11\" >11</th>\n",
       "      <th id=\"T_cac10_level0_col12\" class=\"col_heading level0 col12\" >12</th>\n",
       "      <th id=\"T_cac10_level0_col13\" class=\"col_heading level0 col13\" >13</th>\n",
       "      <th id=\"T_cac10_level0_col14\" class=\"col_heading level0 col14\" >14</th>\n",
       "      <th id=\"T_cac10_level0_col15\" class=\"col_heading level0 col15\" >15</th>\n",
       "      <th id=\"T_cac10_level0_col16\" class=\"col_heading level0 col16\" >16</th>\n",
       "      <th id=\"T_cac10_level0_col17\" class=\"col_heading level0 col17\" >17</th>\n",
       "    </tr>\n",
       "  </thead>\n",
       "  <tbody>\n",
       "    <tr>\n",
       "      <th id=\"T_cac10_level0_row0\" class=\"row_heading level0 row0\" >0</th>\n",
       "      <td id=\"T_cac10_row0_col0\" class=\"data row0 col0\" >0</td>\n",
       "      <td id=\"T_cac10_row0_col1\" class=\"data row0 col1\" >0</td>\n",
       "      <td id=\"T_cac10_row0_col2\" class=\"data row0 col2\" >0</td>\n",
       "      <td id=\"T_cac10_row0_col3\" class=\"data row0 col3\" >0</td>\n",
       "      <td id=\"T_cac10_row0_col4\" class=\"data row0 col4\" >0</td>\n",
       "      <td id=\"T_cac10_row0_col5\" class=\"data row0 col5\" >0</td>\n",
       "      <td id=\"T_cac10_row0_col6\" class=\"data row0 col6\" >0</td>\n",
       "      <td id=\"T_cac10_row0_col7\" class=\"data row0 col7\" >0</td>\n",
       "      <td id=\"T_cac10_row0_col8\" class=\"data row0 col8\" >0</td>\n",
       "      <td id=\"T_cac10_row0_col9\" class=\"data row0 col9\" >0</td>\n",
       "      <td id=\"T_cac10_row0_col10\" class=\"data row0 col10\" >0</td>\n",
       "      <td id=\"T_cac10_row0_col11\" class=\"data row0 col11\" >0</td>\n",
       "      <td id=\"T_cac10_row0_col12\" class=\"data row0 col12\" >0</td>\n",
       "      <td id=\"T_cac10_row0_col13\" class=\"data row0 col13\" >0</td>\n",
       "      <td id=\"T_cac10_row0_col14\" class=\"data row0 col14\" >0</td>\n",
       "      <td id=\"T_cac10_row0_col15\" class=\"data row0 col15\" >0</td>\n",
       "      <td id=\"T_cac10_row0_col16\" class=\"data row0 col16\" >0</td>\n",
       "      <td id=\"T_cac10_row0_col17\" class=\"data row0 col17\" >0</td>\n",
       "    </tr>\n",
       "    <tr>\n",
       "      <th id=\"T_cac10_level0_row1\" class=\"row_heading level0 row1\" >1</th>\n",
       "      <td id=\"T_cac10_row1_col0\" class=\"data row1 col0\" >0</td>\n",
       "      <td id=\"T_cac10_row1_col1\" class=\"data row1 col1\" >0</td>\n",
       "      <td id=\"T_cac10_row1_col2\" class=\"data row1 col2\" >0</td>\n",
       "      <td id=\"T_cac10_row1_col3\" class=\"data row1 col3\" >0</td>\n",
       "      <td id=\"T_cac10_row1_col4\" class=\"data row1 col4\" >0</td>\n",
       "      <td id=\"T_cac10_row1_col5\" class=\"data row1 col5\" >29</td>\n",
       "      <td id=\"T_cac10_row1_col6\" class=\"data row1 col6\" >150</td>\n",
       "      <td id=\"T_cac10_row1_col7\" class=\"data row1 col7\" >195</td>\n",
       "      <td id=\"T_cac10_row1_col8\" class=\"data row1 col8\" >254</td>\n",
       "      <td id=\"T_cac10_row1_col9\" class=\"data row1 col9\" >255</td>\n",
       "      <td id=\"T_cac10_row1_col10\" class=\"data row1 col10\" >254</td>\n",
       "      <td id=\"T_cac10_row1_col11\" class=\"data row1 col11\" >176</td>\n",
       "      <td id=\"T_cac10_row1_col12\" class=\"data row1 col12\" >193</td>\n",
       "      <td id=\"T_cac10_row1_col13\" class=\"data row1 col13\" >150</td>\n",
       "      <td id=\"T_cac10_row1_col14\" class=\"data row1 col14\" >96</td>\n",
       "      <td id=\"T_cac10_row1_col15\" class=\"data row1 col15\" >0</td>\n",
       "      <td id=\"T_cac10_row1_col16\" class=\"data row1 col16\" >0</td>\n",
       "      <td id=\"T_cac10_row1_col17\" class=\"data row1 col17\" >0</td>\n",
       "    </tr>\n",
       "    <tr>\n",
       "      <th id=\"T_cac10_level0_row2\" class=\"row_heading level0 row2\" >2</th>\n",
       "      <td id=\"T_cac10_row2_col0\" class=\"data row2 col0\" >0</td>\n",
       "      <td id=\"T_cac10_row2_col1\" class=\"data row2 col1\" >0</td>\n",
       "      <td id=\"T_cac10_row2_col2\" class=\"data row2 col2\" >0</td>\n",
       "      <td id=\"T_cac10_row2_col3\" class=\"data row2 col3\" >48</td>\n",
       "      <td id=\"T_cac10_row2_col4\" class=\"data row2 col4\" >166</td>\n",
       "      <td id=\"T_cac10_row2_col5\" class=\"data row2 col5\" >224</td>\n",
       "      <td id=\"T_cac10_row2_col6\" class=\"data row2 col6\" >253</td>\n",
       "      <td id=\"T_cac10_row2_col7\" class=\"data row2 col7\" >253</td>\n",
       "      <td id=\"T_cac10_row2_col8\" class=\"data row2 col8\" >234</td>\n",
       "      <td id=\"T_cac10_row2_col9\" class=\"data row2 col9\" >196</td>\n",
       "      <td id=\"T_cac10_row2_col10\" class=\"data row2 col10\" >253</td>\n",
       "      <td id=\"T_cac10_row2_col11\" class=\"data row2 col11\" >253</td>\n",
       "      <td id=\"T_cac10_row2_col12\" class=\"data row2 col12\" >253</td>\n",
       "      <td id=\"T_cac10_row2_col13\" class=\"data row2 col13\" >253</td>\n",
       "      <td id=\"T_cac10_row2_col14\" class=\"data row2 col14\" >233</td>\n",
       "      <td id=\"T_cac10_row2_col15\" class=\"data row2 col15\" >0</td>\n",
       "      <td id=\"T_cac10_row2_col16\" class=\"data row2 col16\" >0</td>\n",
       "      <td id=\"T_cac10_row2_col17\" class=\"data row2 col17\" >0</td>\n",
       "    </tr>\n",
       "    <tr>\n",
       "      <th id=\"T_cac10_level0_row3\" class=\"row_heading level0 row3\" >3</th>\n",
       "      <td id=\"T_cac10_row3_col0\" class=\"data row3 col0\" >0</td>\n",
       "      <td id=\"T_cac10_row3_col1\" class=\"data row3 col1\" >93</td>\n",
       "      <td id=\"T_cac10_row3_col2\" class=\"data row3 col2\" >244</td>\n",
       "      <td id=\"T_cac10_row3_col3\" class=\"data row3 col3\" >249</td>\n",
       "      <td id=\"T_cac10_row3_col4\" class=\"data row3 col4\" >253</td>\n",
       "      <td id=\"T_cac10_row3_col5\" class=\"data row3 col5\" >187</td>\n",
       "      <td id=\"T_cac10_row3_col6\" class=\"data row3 col6\" >46</td>\n",
       "      <td id=\"T_cac10_row3_col7\" class=\"data row3 col7\" >10</td>\n",
       "      <td id=\"T_cac10_row3_col8\" class=\"data row3 col8\" >8</td>\n",
       "      <td id=\"T_cac10_row3_col9\" class=\"data row3 col9\" >4</td>\n",
       "      <td id=\"T_cac10_row3_col10\" class=\"data row3 col10\" >10</td>\n",
       "      <td id=\"T_cac10_row3_col11\" class=\"data row3 col11\" >194</td>\n",
       "      <td id=\"T_cac10_row3_col12\" class=\"data row3 col12\" >253</td>\n",
       "      <td id=\"T_cac10_row3_col13\" class=\"data row3 col13\" >253</td>\n",
       "      <td id=\"T_cac10_row3_col14\" class=\"data row3 col14\" >233</td>\n",
       "      <td id=\"T_cac10_row3_col15\" class=\"data row3 col15\" >0</td>\n",
       "      <td id=\"T_cac10_row3_col16\" class=\"data row3 col16\" >0</td>\n",
       "      <td id=\"T_cac10_row3_col17\" class=\"data row3 col17\" >0</td>\n",
       "    </tr>\n",
       "    <tr>\n",
       "      <th id=\"T_cac10_level0_row4\" class=\"row_heading level0 row4\" >4</th>\n",
       "      <td id=\"T_cac10_row4_col0\" class=\"data row4 col0\" >0</td>\n",
       "      <td id=\"T_cac10_row4_col1\" class=\"data row4 col1\" >107</td>\n",
       "      <td id=\"T_cac10_row4_col2\" class=\"data row4 col2\" >253</td>\n",
       "      <td id=\"T_cac10_row4_col3\" class=\"data row4 col3\" >253</td>\n",
       "      <td id=\"T_cac10_row4_col4\" class=\"data row4 col4\" >230</td>\n",
       "      <td id=\"T_cac10_row4_col5\" class=\"data row4 col5\" >48</td>\n",
       "      <td id=\"T_cac10_row4_col6\" class=\"data row4 col6\" >0</td>\n",
       "      <td id=\"T_cac10_row4_col7\" class=\"data row4 col7\" >0</td>\n",
       "      <td id=\"T_cac10_row4_col8\" class=\"data row4 col8\" >0</td>\n",
       "      <td id=\"T_cac10_row4_col9\" class=\"data row4 col9\" >0</td>\n",
       "      <td id=\"T_cac10_row4_col10\" class=\"data row4 col10\" >0</td>\n",
       "      <td id=\"T_cac10_row4_col11\" class=\"data row4 col11\" >192</td>\n",
       "      <td id=\"T_cac10_row4_col12\" class=\"data row4 col12\" >253</td>\n",
       "      <td id=\"T_cac10_row4_col13\" class=\"data row4 col13\" >253</td>\n",
       "      <td id=\"T_cac10_row4_col14\" class=\"data row4 col14\" >156</td>\n",
       "      <td id=\"T_cac10_row4_col15\" class=\"data row4 col15\" >0</td>\n",
       "      <td id=\"T_cac10_row4_col16\" class=\"data row4 col16\" >0</td>\n",
       "      <td id=\"T_cac10_row4_col17\" class=\"data row4 col17\" >0</td>\n",
       "    </tr>\n",
       "    <tr>\n",
       "      <th id=\"T_cac10_level0_row5\" class=\"row_heading level0 row5\" >5</th>\n",
       "      <td id=\"T_cac10_row5_col0\" class=\"data row5 col0\" >0</td>\n",
       "      <td id=\"T_cac10_row5_col1\" class=\"data row5 col1\" >3</td>\n",
       "      <td id=\"T_cac10_row5_col2\" class=\"data row5 col2\" >20</td>\n",
       "      <td id=\"T_cac10_row5_col3\" class=\"data row5 col3\" >20</td>\n",
       "      <td id=\"T_cac10_row5_col4\" class=\"data row5 col4\" >15</td>\n",
       "      <td id=\"T_cac10_row5_col5\" class=\"data row5 col5\" >0</td>\n",
       "      <td id=\"T_cac10_row5_col6\" class=\"data row5 col6\" >0</td>\n",
       "      <td id=\"T_cac10_row5_col7\" class=\"data row5 col7\" >0</td>\n",
       "      <td id=\"T_cac10_row5_col8\" class=\"data row5 col8\" >0</td>\n",
       "      <td id=\"T_cac10_row5_col9\" class=\"data row5 col9\" >0</td>\n",
       "      <td id=\"T_cac10_row5_col10\" class=\"data row5 col10\" >43</td>\n",
       "      <td id=\"T_cac10_row5_col11\" class=\"data row5 col11\" >224</td>\n",
       "      <td id=\"T_cac10_row5_col12\" class=\"data row5 col12\" >253</td>\n",
       "      <td id=\"T_cac10_row5_col13\" class=\"data row5 col13\" >245</td>\n",
       "      <td id=\"T_cac10_row5_col14\" class=\"data row5 col14\" >74</td>\n",
       "      <td id=\"T_cac10_row5_col15\" class=\"data row5 col15\" >0</td>\n",
       "      <td id=\"T_cac10_row5_col16\" class=\"data row5 col16\" >0</td>\n",
       "      <td id=\"T_cac10_row5_col17\" class=\"data row5 col17\" >0</td>\n",
       "    </tr>\n",
       "    <tr>\n",
       "      <th id=\"T_cac10_level0_row6\" class=\"row_heading level0 row6\" >6</th>\n",
       "      <td id=\"T_cac10_row6_col0\" class=\"data row6 col0\" >0</td>\n",
       "      <td id=\"T_cac10_row6_col1\" class=\"data row6 col1\" >0</td>\n",
       "      <td id=\"T_cac10_row6_col2\" class=\"data row6 col2\" >0</td>\n",
       "      <td id=\"T_cac10_row6_col3\" class=\"data row6 col3\" >0</td>\n",
       "      <td id=\"T_cac10_row6_col4\" class=\"data row6 col4\" >0</td>\n",
       "      <td id=\"T_cac10_row6_col5\" class=\"data row6 col5\" >0</td>\n",
       "      <td id=\"T_cac10_row6_col6\" class=\"data row6 col6\" >0</td>\n",
       "      <td id=\"T_cac10_row6_col7\" class=\"data row6 col7\" >0</td>\n",
       "      <td id=\"T_cac10_row6_col8\" class=\"data row6 col8\" >0</td>\n",
       "      <td id=\"T_cac10_row6_col9\" class=\"data row6 col9\" >0</td>\n",
       "      <td id=\"T_cac10_row6_col10\" class=\"data row6 col10\" >249</td>\n",
       "      <td id=\"T_cac10_row6_col11\" class=\"data row6 col11\" >253</td>\n",
       "      <td id=\"T_cac10_row6_col12\" class=\"data row6 col12\" >245</td>\n",
       "      <td id=\"T_cac10_row6_col13\" class=\"data row6 col13\" >126</td>\n",
       "      <td id=\"T_cac10_row6_col14\" class=\"data row6 col14\" >0</td>\n",
       "      <td id=\"T_cac10_row6_col15\" class=\"data row6 col15\" >0</td>\n",
       "      <td id=\"T_cac10_row6_col16\" class=\"data row6 col16\" >0</td>\n",
       "      <td id=\"T_cac10_row6_col17\" class=\"data row6 col17\" >0</td>\n",
       "    </tr>\n",
       "    <tr>\n",
       "      <th id=\"T_cac10_level0_row7\" class=\"row_heading level0 row7\" >7</th>\n",
       "      <td id=\"T_cac10_row7_col0\" class=\"data row7 col0\" >0</td>\n",
       "      <td id=\"T_cac10_row7_col1\" class=\"data row7 col1\" >0</td>\n",
       "      <td id=\"T_cac10_row7_col2\" class=\"data row7 col2\" >0</td>\n",
       "      <td id=\"T_cac10_row7_col3\" class=\"data row7 col3\" >0</td>\n",
       "      <td id=\"T_cac10_row7_col4\" class=\"data row7 col4\" >0</td>\n",
       "      <td id=\"T_cac10_row7_col5\" class=\"data row7 col5\" >0</td>\n",
       "      <td id=\"T_cac10_row7_col6\" class=\"data row7 col6\" >0</td>\n",
       "      <td id=\"T_cac10_row7_col7\" class=\"data row7 col7\" >14</td>\n",
       "      <td id=\"T_cac10_row7_col8\" class=\"data row7 col8\" >101</td>\n",
       "      <td id=\"T_cac10_row7_col9\" class=\"data row7 col9\" >223</td>\n",
       "      <td id=\"T_cac10_row7_col10\" class=\"data row7 col10\" >253</td>\n",
       "      <td id=\"T_cac10_row7_col11\" class=\"data row7 col11\" >248</td>\n",
       "      <td id=\"T_cac10_row7_col12\" class=\"data row7 col12\" >124</td>\n",
       "      <td id=\"T_cac10_row7_col13\" class=\"data row7 col13\" >0</td>\n",
       "      <td id=\"T_cac10_row7_col14\" class=\"data row7 col14\" >0</td>\n",
       "      <td id=\"T_cac10_row7_col15\" class=\"data row7 col15\" >0</td>\n",
       "      <td id=\"T_cac10_row7_col16\" class=\"data row7 col16\" >0</td>\n",
       "      <td id=\"T_cac10_row7_col17\" class=\"data row7 col17\" >0</td>\n",
       "    </tr>\n",
       "    <tr>\n",
       "      <th id=\"T_cac10_level0_row8\" class=\"row_heading level0 row8\" >8</th>\n",
       "      <td id=\"T_cac10_row8_col0\" class=\"data row8 col0\" >0</td>\n",
       "      <td id=\"T_cac10_row8_col1\" class=\"data row8 col1\" >0</td>\n",
       "      <td id=\"T_cac10_row8_col2\" class=\"data row8 col2\" >0</td>\n",
       "      <td id=\"T_cac10_row8_col3\" class=\"data row8 col3\" >0</td>\n",
       "      <td id=\"T_cac10_row8_col4\" class=\"data row8 col4\" >0</td>\n",
       "      <td id=\"T_cac10_row8_col5\" class=\"data row8 col5\" >11</td>\n",
       "      <td id=\"T_cac10_row8_col6\" class=\"data row8 col6\" >166</td>\n",
       "      <td id=\"T_cac10_row8_col7\" class=\"data row8 col7\" >239</td>\n",
       "      <td id=\"T_cac10_row8_col8\" class=\"data row8 col8\" >253</td>\n",
       "      <td id=\"T_cac10_row8_col9\" class=\"data row8 col9\" >253</td>\n",
       "      <td id=\"T_cac10_row8_col10\" class=\"data row8 col10\" >253</td>\n",
       "      <td id=\"T_cac10_row8_col11\" class=\"data row8 col11\" >187</td>\n",
       "      <td id=\"T_cac10_row8_col12\" class=\"data row8 col12\" >30</td>\n",
       "      <td id=\"T_cac10_row8_col13\" class=\"data row8 col13\" >0</td>\n",
       "      <td id=\"T_cac10_row8_col14\" class=\"data row8 col14\" >0</td>\n",
       "      <td id=\"T_cac10_row8_col15\" class=\"data row8 col15\" >0</td>\n",
       "      <td id=\"T_cac10_row8_col16\" class=\"data row8 col16\" >0</td>\n",
       "      <td id=\"T_cac10_row8_col17\" class=\"data row8 col17\" >0</td>\n",
       "    </tr>\n",
       "    <tr>\n",
       "      <th id=\"T_cac10_level0_row9\" class=\"row_heading level0 row9\" >9</th>\n",
       "      <td id=\"T_cac10_row9_col0\" class=\"data row9 col0\" >0</td>\n",
       "      <td id=\"T_cac10_row9_col1\" class=\"data row9 col1\" >0</td>\n",
       "      <td id=\"T_cac10_row9_col2\" class=\"data row9 col2\" >0</td>\n",
       "      <td id=\"T_cac10_row9_col3\" class=\"data row9 col3\" >0</td>\n",
       "      <td id=\"T_cac10_row9_col4\" class=\"data row9 col4\" >0</td>\n",
       "      <td id=\"T_cac10_row9_col5\" class=\"data row9 col5\" >16</td>\n",
       "      <td id=\"T_cac10_row9_col6\" class=\"data row9 col6\" >248</td>\n",
       "      <td id=\"T_cac10_row9_col7\" class=\"data row9 col7\" >250</td>\n",
       "      <td id=\"T_cac10_row9_col8\" class=\"data row9 col8\" >253</td>\n",
       "      <td id=\"T_cac10_row9_col9\" class=\"data row9 col9\" >253</td>\n",
       "      <td id=\"T_cac10_row9_col10\" class=\"data row9 col10\" >253</td>\n",
       "      <td id=\"T_cac10_row9_col11\" class=\"data row9 col11\" >253</td>\n",
       "      <td id=\"T_cac10_row9_col12\" class=\"data row9 col12\" >232</td>\n",
       "      <td id=\"T_cac10_row9_col13\" class=\"data row9 col13\" >213</td>\n",
       "      <td id=\"T_cac10_row9_col14\" class=\"data row9 col14\" >111</td>\n",
       "      <td id=\"T_cac10_row9_col15\" class=\"data row9 col15\" >2</td>\n",
       "      <td id=\"T_cac10_row9_col16\" class=\"data row9 col16\" >0</td>\n",
       "      <td id=\"T_cac10_row9_col17\" class=\"data row9 col17\" >0</td>\n",
       "    </tr>\n",
       "    <tr>\n",
       "      <th id=\"T_cac10_level0_row10\" class=\"row_heading level0 row10\" >10</th>\n",
       "      <td id=\"T_cac10_row10_col0\" class=\"data row10 col0\" >0</td>\n",
       "      <td id=\"T_cac10_row10_col1\" class=\"data row10 col1\" >0</td>\n",
       "      <td id=\"T_cac10_row10_col2\" class=\"data row10 col2\" >0</td>\n",
       "      <td id=\"T_cac10_row10_col3\" class=\"data row10 col3\" >0</td>\n",
       "      <td id=\"T_cac10_row10_col4\" class=\"data row10 col4\" >0</td>\n",
       "      <td id=\"T_cac10_row10_col5\" class=\"data row10 col5\" >0</td>\n",
       "      <td id=\"T_cac10_row10_col6\" class=\"data row10 col6\" >0</td>\n",
       "      <td id=\"T_cac10_row10_col7\" class=\"data row10 col7\" >43</td>\n",
       "      <td id=\"T_cac10_row10_col8\" class=\"data row10 col8\" >98</td>\n",
       "      <td id=\"T_cac10_row10_col9\" class=\"data row10 col9\" >98</td>\n",
       "      <td id=\"T_cac10_row10_col10\" class=\"data row10 col10\" >208</td>\n",
       "      <td id=\"T_cac10_row10_col11\" class=\"data row10 col11\" >253</td>\n",
       "      <td id=\"T_cac10_row10_col12\" class=\"data row10 col12\" >253</td>\n",
       "      <td id=\"T_cac10_row10_col13\" class=\"data row10 col13\" >253</td>\n",
       "      <td id=\"T_cac10_row10_col14\" class=\"data row10 col14\" >253</td>\n",
       "      <td id=\"T_cac10_row10_col15\" class=\"data row10 col15\" >187</td>\n",
       "      <td id=\"T_cac10_row10_col16\" class=\"data row10 col16\" >22</td>\n",
       "      <td id=\"T_cac10_row10_col17\" class=\"data row10 col17\" >0</td>\n",
       "    </tr>\n",
       "  </tbody>\n",
       "</table>\n"
      ],
      "text/plain": [
       "<pandas.io.formats.style.Styler at 0x24bc0a564d0>"
      ]
     },
     "execution_count": 27,
     "metadata": {},
     "output_type": "execute_result"
    }
   ],
   "source": [
    "# slice the array to pick just the part we want to see, then use Pandas DataFrame to color code the values using gradient\n",
    "# to show how the image is created from the pixel values\n",
    "\n",
    "# https://pandas.pydata.org/docs/reference/api/pandas.io.formats.style.Styler.background_gradient.html\n",
    "# https://matplotlib.org/stable/users/explain/colors/colormaps.html\n",
    "\n",
    "import pandas as pd\n",
    "\n",
    "img3_t = tensor(im3)\n",
    "df = pd.DataFrame(img3_t[4:15, 4:22])\n",
    "df.style.set_properties(**{\"font-size\": \"8pt\"}).background_gradient(\"Greys\")"
   ]
  },
  {
   "cell_type": "markdown",
   "id": "abf1ffd1-545b-46f1-94f0-33c654578fa9",
   "metadata": {},
   "source": [
    "The background white pixels are stored as number 0, black is the number 255\n",
    "Shades of grey are between 0 and 255\n",
    "The entire image contains 28 pixels across and 28 pixels down, for a total of 784 pixels\n",
    "\n",
    "How would we program the computer to recognize these 2 different digits?"
   ]
  },
  {
   "cell_type": "markdown",
   "id": "42d1c178-82b3-4f12-b99f-53bd46c1a0f2",
   "metadata": {},
   "source": [
    "# First Try: Pixel Similarity\n",
    "First idea: find the average pixel value of every pixel of the \"3\"s then do the same for the \"7\"s\n",
    "We will have 2 group averages, defining what we might call the \"ideal\" 3 and 7\n",
    "Then to classify an image, we will see which of the two digits they are more similar to\n",
    "\n",
    "This will make a good baseline\n",
    "- Baseline: simple model which you are confident should perform reasonably well\n",
    "- Should be easy to implement, easy to test, so that you can test each of your improved ideas\n",
    "- Without starting with a baseline, it is difficult to know whether your fancy models are doing any good\n",
    "- Another good approach is to search around and find other people that have solved similar problems as yours, and download and run their code on your dataset"
   ]
  },
  {
   "cell_type": "code",
   "execution_count": 4,
   "id": "46a37fd150cfb80e",
   "metadata": {
    "ExecuteTime": {
     "end_time": "2024-01-30T14:04:24.024180800Z",
     "start_time": "2024-01-30T14:04:07.804568300Z"
    },
    "collapsed": false,
    "jupyter": {
     "outputs_hidden": false
    }
   },
   "outputs": [
    {
     "data": {
      "text/plain": [
       "(6131, 6265)"
      ]
     },
     "execution_count": 4,
     "metadata": {},
     "output_type": "execute_result"
    }
   ],
   "source": [
    "# Create a tensor containing all of our 3s stacked together\n",
    "# Use python list comprehension to create a plain list of the single image tensors\n",
    "seven_tensors = [tensor(Image.open(im7)) for im7 in sevens]\n",
    "three_tensors = [tensor(Image.open(im3)) for im3 in threes]\n",
    "\n",
    "len(three_tensors), len(seven_tensors)"
   ]
  },
  {
   "cell_type": "markdown",
   "id": "1125f760-149f-4071-9c4b-8cdd1fd1f072",
   "metadata": {},
   "source": [
    "A list comprehension looks like this: `new_list: [f(o) for o in a_list if o > 10]`\n",
    "- return every element of `a_list` that is greater than 10, after passing it through function `f`\n",
    "- Three parts\n",
    "    1) Collection you are iterating over (`a_list`)\n",
    "    2) Optional filter (`if o > 10`)\n",
    "    3) Something to do to each element (`f(o)`)"
   ]
  },
  {
   "cell_type": "code",
   "execution_count": 7,
   "id": "ff494574-8465-4c48-a0e1-eeab6bfc2e8d",
   "metadata": {},
   "outputs": [
    {
     "data": {
      "text/plain": [
       "<Axes: >"
      ]
     },
     "execution_count": 7,
     "metadata": {},
     "output_type": "execute_result"
    },
    {
     "data": {
      "image/png": "[encoded data removed]",
      "text/plain": [
       "<Figure size 100x100 with 1 Axes>"
      ]
     },
     "metadata": {},
     "output_type": "display_data"
    }
   ],
   "source": [
    "# check that one image looks okay\n",
    "# need fastai show_image to display the tensor image, or else jupyter will print the tensor as values\n",
    "show_image(three_tensors[1])"
   ]
  },
  {
   "cell_type": "markdown",
   "id": "4aa2fdb1-138a-4a51-bfcf-043612e35ccf",
   "metadata": {},
   "source": [
    "For every pixel position, we want to compute the average over all the images of the intensity of that pixel\n",
    "We will first combine all the images in this list into a single three-dimensional tensor\n",
    "- Described as rank-3 tensor\n",
    "\n",
    "We often need to stack up individual tensors in a collection into a single tensor\n",
    "PyTorch has a function `stack` that we can use for this purpose\n",
    "\n",
    "Some operations in PyTorch, such as taking a mean, require us to cast our integer types to float types\n",
    "Since we will need this later, we will cast our stacked tensor to float now\n",
    "\n",
    "Generally when images are floats, the pixel values are expected to be between 0 and 1, so we will divide by 255 here"
   ]
  },
  {
   "cell_type": "code",
   "execution_count": 5,
   "id": "bdf6980f-d569-4c96-a379-14c1ba2eed34",
   "metadata": {},
   "outputs": [
    {
     "data": {
      "text/plain": [
       "torch.Size([6131, 28, 28])"
      ]
     },
     "execution_count": 5,
     "metadata": {},
     "output_type": "execute_result"
    }
   ],
   "source": [
    "stacked_threes = torch.stack(three_tensors).float() / 255\n",
    "stacked_sevens = torch.stack(seven_tensors).float() / 255\n",
    "\n",
    "stacked_threes.shape"
   ]
  },
  {
   "cell_type": "markdown",
   "id": "ad9aca92-4114-4a4a-8747-4aac00f15730",
   "metadata": {},
   "source": [
    "The most important attribute of a tensor is its `shape`\n",
    "**shape** Tells the length of each axis\n",
    "torch.Size([6131, 28, 28])\n",
    "- 6131 images, each of size 28 x 28 pixels\n",
    "- Nothing specifically about this tensor that says the first axis is the number of images, second is the height and third is width\n",
    "- The semantics is entirely up to us and how we construct it\n",
    "- For PyTorch, it is just a bunch of numbers in memory\n",
    "\n",
    "**Length of a tensor's shape is its rank**\n",
    "rank = len(stacked_threes.shape)\n",
    "=> 3"
   ]
  },
  {
   "cell_type": "code",
   "execution_count": 8,
   "id": "3218e96d-0e3a-4125-8bea-b77bacdd0891",
   "metadata": {},
   "outputs": [
    {
     "data": {
      "text/plain": [
       "3"
      ]
     },
     "execution_count": 8,
     "metadata": {},
     "output_type": "execute_result"
    }
   ],
   "source": [
    "len(stacked_threes.shape)\n",
    "\n",
    "# RANK is the number of axes or dimensions in a tensor\n",
    "# SHAPE is the size of each axis of a tensor"
   ]
  },
  {
   "cell_type": "code",
   "execution_count": 9,
   "id": "1bf1771b-c8ca-43b3-9bda-4d2317497f5f",
   "metadata": {},
   "outputs": [
    {
     "data": {
      "text/plain": [
       "3"
      ]
     },
     "execution_count": 9,
     "metadata": {},
     "output_type": "execute_result"
    }
   ],
   "source": [
    "# Get tensor rank directly using ndim\n",
    "stacked_threes.ndim # 3"
   ]
  },
  {
   "cell_type": "code",
   "execution_count": 7,
   "id": "a7ad4c43-b32c-4d89-8547-2b53098db2e6",
   "metadata": {},
   "outputs": [
    {
     "name": "stdout",
     "output_type": "stream",
     "text": [
      "torch.Size([28, 28])\n"
     ]
    },
    {
     "data": {
      "text/plain": [
       "<Axes: >"
      ]
     },
     "execution_count": 7,
     "metadata": {},
     "output_type": "execute_result"
    },
    {
     "data": {
      "image/png": "[encoded data removed]",
      "text/plain": [
       "<Figure size 100x100 with 1 Axes>"
      ]
     },
     "metadata": {},
     "output_type": "display_data"
    }
   ],
   "source": [
    "# we can calculate what the ideal 3 looks like\n",
    "# calculate the mean of all the image tensors by taking mean along dimension 0 our stacked, rank 3 tensor\n",
    "# this is the dimension that indexes over all the images\n",
    "\n",
    "# For each pixel position, this will compute the average of that pixel over all images\n",
    "# the result will be one value for each pixel position, or a single image\n",
    "\n",
    "# mean over the first dimension\n",
    "# tensor shape -> torch.Size([6131, 28, 28])\n",
    "mean_three = torch.mean(stacked_threes, 0) # or stacked_threes.mean(0)\n",
    "\n",
    "print(mean_three.shape) # will be torch.Size([28, 28])\n",
    "show_image(mean_three) # show the ideal number 3"
   ]
  },
  {
   "cell_type": "code",
   "execution_count": 8,
   "id": "c6ed0392-659c-4a2e-b979-472bf21cc022",
   "metadata": {},
   "outputs": [
    {
     "name": "stdout",
     "output_type": "stream",
     "text": [
      "torch.Size([28, 28])\n"
     ]
    },
    {
     "data": {
      "text/plain": [
       "<Axes: >"
      ]
     },
     "execution_count": 8,
     "metadata": {},
     "output_type": "execute_result"
    },
    {
     "data": {
      "image/png": "[encoded data removed]",
      "text/plain": [
       "<Figure size 100x100 with 1 Axes>"
      ]
     },
     "metadata": {},
     "output_type": "display_data"
    }
   ],
   "source": [
    "# get the mean of sevens!\n",
    "mean_seven = torch.mean(stacked_sevens, 0)\n",
    "\n",
    "print(mean_seven.shape)\n",
    "show_image(mean_seven)"
   ]
  },
  {
   "cell_type": "markdown",
   "id": "20af9010-9ff9-46fd-b6bf-1749f3109405",
   "metadata": {},
   "source": [
    "Let's now pick an arbitrary 3 and measure its distance from our \"ideal digits.\"\n",
    "\n",
    "**stop: Stop and Think!:** How would you calculate how similar a particular image is to each of our ideal digits? \n",
    "Remember to step away from this book and jot down some ideas before you move on! \n",
    "Research shows that recall and understanding improves dramatically when you are engaged with the learning process by solving problems, experimenting, and trying new ideas yourself\n",
    "\n",
    "- Possible ideas\n",
    "Take an image, take each pixel and calculate the mean squared error from the \"ideal\" three and \"ideal\" seven.\n",
    "The one that is closer will be chosen as the possible image\n",
    "\n",
    "How to determine the distance from our ideal 3?\n",
    "We can't just add up the differences between the pixels of this image and the ideal digit\n",
    "Some differences will be positive while others will be negative and these differences will cancel out, resulting in an image that is too dark in some areas and some that are too light in some areas to be shown as zero differences, which is misleading!\n",
    "\n",
    "There are two main ways data scientists measure distance in this context\n",
    "1) Take the mean of the absolute differences (absolute value is a function that replaces negative values with positive values). This is called **mean aboslute difference** or **L1 norm**\n",
    "2) Take the mean of the square of differences (which makes everything positive) and then take the square root (does the unsquaring). This is **root mean squared error (RMSE) or L2 norm**"
   ]
  },
  {
   "cell_type": "code",
   "execution_count": 9,
   "id": "5c477c3c-4017-42c7-884d-f78838090bfd",
   "metadata": {},
   "outputs": [
    {
     "name": "stdout",
     "output_type": "stream",
     "text": [
      "torch.Size([28, 28])\n",
      "tensor(0.1114) tensor(0.2021)\n"
     ]
    },
    {
     "data": {
      "image/png": "[encoded data removed]",
      "text/plain": [
       "<Figure size 100x100 with 1 Axes>"
      ]
     },
     "metadata": {},
     "output_type": "display_data"
    }
   ],
   "source": [
    "a_3 = stacked_threes[1]\n",
    "print(a_3.shape)\n",
    "show_image(a_3)\n",
    "\n",
    "# L1 norm - take mean of the absolute value of differences\n",
    "dist_3_abs = (a_3 - mean_three).abs().mean()\n",
    "# L2 norm - take square root of (mean of square of differences) => root mean squared error (RMSE)\n",
    "dist_3_sqr = ((a_3 - mean_three)**2).mean().sqrt()\n",
    "\n",
    "print(dist_3_abs, dist_3_sqr)"
   ]
  },
  {
   "cell_type": "code",
   "execution_count": 11,
   "id": "5c2a1f84-a534-40ab-9f7f-bc570cc0ce30",
   "metadata": {},
   "outputs": [
    {
     "name": "stdout",
     "output_type": "stream",
     "text": [
      "tensor(0.1586) tensor(0.3021)\n"
     ]
    }
   ],
   "source": [
    "# L1 norm - take absolute differences and get the mean\n",
    "dist_7_abs = (a_3 - mean_seven).abs().mean()\n",
    "# L2 norm - Root mean squared error RMSE - take squared differences, get mean, then do square root\n",
    "dist_7_sqr = ((a_3 - mean_seven)**2).mean().sqrt()\n",
    "\n",
    "print(dist_7_abs, dist_7_sqr)"
   ]
  },
  {
   "cell_type": "markdown",
   "id": "d3276d73-9d06-4c6a-81fd-093958c21c88",
   "metadata": {},
   "source": [
    "For both cases, the distance between our \"3\" and the \"ideal\" 3 is less than the distance to the ideal 7\n",
    "So our simple model is right in this case\n",
    "\n",
    "PyTorch already provides both of these as **loss functions**\n",
    "These are inside `torch.nn.functional` which the PyTorch recommends importing as `F` (and is available by default under the name in fastai)"
   ]
  },
  {
   "cell_type": "code",
   "execution_count": 36,
   "id": "0c1364ce-3839-422d-9d6f-81789d52a9f4",
   "metadata": {},
   "outputs": [
    {
     "name": "stdout",
     "output_type": "stream",
     "text": [
      "Help on function l1_loss in module torch.nn.functional:\n",
      "\n",
      "l1_loss(input: torch.Tensor, target: torch.Tensor, size_average: Optional[bool] = None, reduce: Optional[bool] = None, reduction: str = 'mean') -> torch.Tensor\n",
      "    l1_loss(input, target, size_average=None, reduce=None, reduction='mean') -> Tensor\n",
      "    \n",
      "    Function that takes the mean element-wise absolute value difference.\n",
      "    \n",
      "    See :class:`~torch.nn.L1Loss` for details.\n",
      "\n",
      "Help on function mse_loss in module torch.nn.functional:\n",
      "\n",
      "mse_loss(input: torch.Tensor, target: torch.Tensor, size_average: Optional[bool] = None, reduce: Optional[bool] = None, reduction: str = 'mean') -> torch.Tensor\n",
      "    mse_loss(input, target, size_average=None, reduce=None, reduction='mean') -> Tensor\n",
      "    \n",
      "    Measures the element-wise mean squared error.\n",
      "    \n",
      "    See :class:`~torch.nn.MSELoss` for details.\n",
      "\n",
      "L1 norm\n",
      "tensor(0.1114) tensor(0.1586)\n",
      "\n",
      "L2 norm, AKA Root mean squared error\n",
      "tensor(0.2021) tensor(0.3021)\n"
     ]
    }
   ],
   "source": [
    "import torch.nn.functional as F\n",
    "\n",
    "# help(F)\n",
    "\n",
    "help(F.l1_loss)\n",
    "help(F.mse_loss)\n",
    "\n",
    "# L1 norm, take mean of absolute differences\n",
    "print(\"L1 norm\")\n",
    "print(F.l1_loss(input=a_3.float(), target=mean_three), F.l1_loss(input=a_3, target=mean_seven))\n",
    "\n",
    "# L2 norm, take sqrt of mean of squared differences, need to sqrt after calling F.mse_loss\n",
    "# https://discuss.pytorch.org/t/rmse-loss-function/16540\n",
    "print(\"\\nL2 norm, AKA Root mean squared error\")\n",
    "print(F.mse_loss(input=a_3.float(), target=mean_three).sqrt(), F.mse_loss(input=a_3, target=mean_seven).sqrt())\n",
    "\n",
    "# mse means mean squared error, l1 refers to the standard mathematical jargon for mean absolute value (in math its called L1 norm)"
   ]
  },
  {
   "cell_type": "markdown",
   "id": "7f8c2077-9d29-4d20-9daa-780a93854503",
   "metadata": {},
   "source": [
    "# Difference between L1 norm and mean squared error (MSE) is that MSE will penalize bigger mistakes more heavily than L1 norm (and be more lenient with small mistakes)\n",
    "\n",
    "We completed various mathematical operations on PyTorch tensors. If you have done some numeric programming in NumPy before, you may recognize these as being similar to NumPy arrays"
   ]
  },
  {
   "cell_type": "markdown",
   "id": "2fe414a5-dcc7-4f47-b8d5-67d2b2531e83",
   "metadata": {},
   "source": [
    "# NumPy Arrays and PyTorch Tensors\n",
    "NumPy is the most widely used library for scientific and numeric programming in Python\n",
    "Provides similar functionality and API as PyTorch BUT it does not support using the GPU or calculating gradients, which are both critical for deep learning\n",
    "\n",
    "We will therefore generally use PyTorch tensors instead of NumPy arrays, whenever possible\n",
    "\n",
    "(Note that fastai adds some features to NumPy and PyTorch to make them a bit more similar to each other. If any code in this book doesn't work on your computer, it's possible that you forgot to include a line like this at the start of your notebook: `from fastai.vision.all import *`.)\n",
    "\n",
    "But what are arrays and tensors, and why should you care?\n",
    "\n",
    "Python is slow compared to many languages. Anything fast in Python, NumPy, or PyTorch is likely to be a wrapper for a compiled object written (and optimized) in another language—specifically C.\n",
    "**NumPy arrays and PyTorch tensors can finish computations many thousands of times faster than using pure Python.**\n",
    "\n",
    "A NumPy array is a multidimensional table of data, with all items of the same type. This can be any type, they can even be arrays of arrays, with the innermost arrays being different sizes (jagged array)\n",
    "By multidimensional table, we mean, e.g. list (dimension of one), table or matrix (dimension of two), table of tables or cube (dimension of three), and so forth\n",
    "If the items are all of some simple type such as integer or float, then NumPy will store them as a compact C data structure in memory (where NumPy shines)\n",
    "NumPy has a wide variety of operators and methods that can run computations on these compact structures at the same speed as optimized C, because they are written in optimized C.\n",
    "\n",
    "A PyTorch tensor is nearly the same thing as a NumPy array, but with an additional restriction that unlocks some additional capabilities. It's the same in that it, too, is a multidimensional table of data, with all items of the same type. However, the restriction is that a tensor cannot use just any old type—it has to use a single basic numeric type for all components. For example, a PyTorch tensor cannot be jagged. It is always a regularly shaped multidimensional rectangular structure.\n",
    "\n",
    "The vast majority of methods and operators supported by NumPy on these structures are also supported by PyTorch, but PyTorch tensors have additional capabilities. One major capability is that these structures can live on the GPU, in which case their computation will be optimized for the GPU and can run much faster (given lots of values to work on). In addition, PyTorch can automatically calculate derivatives of these operations, including combinations of operations. As you'll see, it would be impossible to do deep learning in practice without this capability.\n",
    "\n",
    "    S: If you don't know what C is, don't worry as you won't need it at all. In a nutshell, it's a low-level (low-level means more similar to the language that computers use internally) language that is very fast compared to Python. To take advantage of its speed while programming in Python, try to avoid as much as possible writing loops, and replace them by commands that work directly on arrays or tensors.\n",
    "\n",
    "Perhaps the most important new coding skill for a Python programmer to learn is how to effectively use the array/tensor APIs. We will be showing lots more tricks later in this book, but here's a summary of the key things you need to know for now."
   ]
  },
  {
   "cell_type": "code",
   "execution_count": 42,
   "id": "ad2329b6-b3eb-4d3b-b723-74c030992de5",
   "metadata": {},
   "outputs": [
    {
     "name": "stdout",
     "output_type": "stream",
     "text": [
      "tensor([4, 5, 6])\n"
     ]
    }
   ],
   "source": [
    "\"\"\"\n",
    "Create an array or tensor => pass a list (or list of lists, or list of lists of lists, etc) \n",
    "to `array()` (NumPy) or `tensor()` (PyTorch)\n",
    "\"\"\"\n",
    "data = [[1,2,3],[4,5,6]]\n",
    "arr = array(data) # NumPy\n",
    "tns = tensor(data) # PyTorch\n",
    "\n",
    "# All the operations that follow are shown on tensors, but the syntax and results for NumPy arrays is identical.\n",
    "\n",
    "# Select a row (note that, like lists in Python, tensors are 0-indexed, index 1 refers to second row/column)\n",
    "print(tns[1]) # tensor([4,5,6])"
   ]
  },
  {
   "cell_type": "code",
   "execution_count": 48,
   "id": "1e2d225b-1005-4892-9e4e-a084dcb9902b",
   "metadata": {},
   "outputs": [
    {
     "name": "stdout",
     "output_type": "stream",
     "text": [
      "tensor([2, 5])\n",
      "tensor([[4, 5, 6]])\n",
      "tensor([5, 6])\n",
      "tensor([[2, 3, 4],\n",
      "        [5, 6, 7]])\n",
      "torch.LongTensor\n",
      "tensor([[1.5000, 3.0000, 4.5000],\n",
      "        [6.0000, 7.5000, 9.0000]])\n",
      "torch.FloatTensor\n"
     ]
    }
   ],
   "source": [
    "# or a column, by using `:` to indicate all of the first axis (we sometimes refer to dimension of tensors/arrays as axes\n",
    "print(tns[:, 1]) # tensor([2, 5])\n",
    "\n",
    "# e.g. drop first row of each entry\n",
    "print(tns[1:])\n",
    "\n",
    "# can give python slice syntax (e.g. [start : end])\n",
    "print(tns[1, 1:3]) # get second entry, slice from 2 element 2 item => tensor([5, 6])\n",
    "\n",
    "# And you can use the standard operators such as +, -, *, /:\n",
    "print(tns + 1) # tensor([[2,3,4],[5,6,7]])\n",
    "\n",
    "# tensors have a type\n",
    "print(tns.type()) # torch.LongTensor\n",
    "\n",
    "# will auto change type as needed, e.g. from int to float\n",
    "print(tns * 1.5)\n",
    "print((tns * 1.5).type())"
   ]
  },
  {
   "cell_type": "markdown",
   "id": "95b07bde-3006-4071-b047-ee5eada296ae",
   "metadata": {},
   "source": [
    "So, is our baseline model any good? To quantify this, we must define a metric.\n",
    "\n",
    "# Computing Metrics Using Broadcasting\n",
    "A metric is a number that is calculated based on the predictions of our model, and the correct labels in our dataset, to tell us how good our model is\n",
    "e.g. We could use either of the functions in the previous section, mean squared error (L2 norm) or L1 norm (mean absolute error), and take the average of them over the whole dataset\n",
    "However, neither of these numbers are very understandable to most people\n",
    "In practice, we normally use **accuracy** as the metric for classification models\n",
    "\n",
    "We want to calculate our metrics over a **validation set**\n",
    "This is so that we don't inadvertently overfit (train a model to work well only for our training data)\n",
    "Not really a risk with pixel similarity model we are using here as a first try, since there is no trained components, but we will use a validation set anyway in order to follow best practices\n",
    "\n",
    "To get a validation set, we need to remove some of the data from the training data entirely, so it is not seen by the model at all\n",
    "As it turns out, the creators of the MNIST dataset have already done this for us. Do you remember how there was a whole separate directory called valid? That's what this directory is for!\n",
    "\n",
    "To start, we will create tensors for our 3s and 7s from that \"valid\" directory\n",
    "These are the tensors we will use to calculate a metric measuring the quality of our first try model, which measures distance from an ideal image"
   ]
  },
  {
   "cell_type": "code",
   "execution_count": 15,
   "id": "9429e7d4-6dec-44dc-b8d8-a032aff0f327",
   "metadata": {},
   "outputs": [
    {
     "name": "stdout",
     "output_type": "stream",
     "text": [
      "[Path('C:/Users/jerem/.fastai/data/mnist_sample/valid/3'), Path('C:/Users/jerem/.fastai/data/mnist_sample/valid/7')]\n",
      "3 tensor shape = torch.Size([1010, 28, 28])\n",
      "3 tensor rank = 3\n",
      "7 tensor shape = torch.Size([1028, 28, 28])\n",
      "7 tensor rank = 3\n"
     ]
    },
    {
     "data": {
      "text/plain": [
       "<Axes: >"
      ]
     },
     "execution_count": 15,
     "metadata": {},
     "output_type": "execute_result"
    },
    {
     "data": {
      "image/png": "[encoded data removed]",
      "text/plain": [
       "<Figure size 100x100 with 1 Axes>"
      ]
     },
     "metadata": {},
     "output_type": "display_data"
    },
    {
     "data": {
      "image/png": "[encoded data removed]",
      "text/plain": [
       "<Figure size 100x100 with 1 Axes>"
      ]
     },
     "metadata": {},
     "output_type": "display_data"
    }
   ],
   "source": [
    "# help(torch.stack)\n",
    "print((path/\"valid\").ls())\n",
    "valid_3_path = path/\"valid\"/\"3\"\n",
    "valid_7_path = path/\"valid\"/\"7\"\n",
    "\n",
    "# help(Image.open) # PIL.Image\n",
    "# print(valid_3_path.ls().sorted())\n",
    "\n",
    "valid_3_tensors = torch.stack([tensor(Image.open(t)).float()/255 for t in valid_3_path.ls().sorted()])\n",
    "print(f\"3 tensor shape = {valid_3_tensors.shape}\")\n",
    "print(f\"3 tensor rank = {valid_3_tensors.ndim}\")\n",
    "# print(valid_3_tensors[1])\n",
    "show_image(valid_3_tensors[1])\n",
    "\n",
    "valid_7_tensors = torch.stack([tensor(Image.open(t)).float()/255 for t in valid_7_path.ls().sorted()])\n",
    "print(f\"7 tensor shape = {valid_7_tensors.shape}\")\n",
    "print(f\"7 tensor rank = {valid_7_tensors.ndim}\")\n",
    "show_image(valid_7_tensors[1])\n",
    "\n",
    "# tensor shape is the length of each axes\n",
    "# tensor rank is the length of shape (how many axes are there)"
   ]
  },
  {
   "cell_type": "markdown",
   "id": "19122708-7730-4c86-a1a1-07945f0609f4",
   "metadata": {},
   "source": [
    "Good to get into habit of checking shapes of tensors as you go\n",
    "We have two tensors, one representing 3s validation set of 1010 images of size 28x28\n",
    "one representing 7s validation set of 1028 images of size 28x28\n",
    "\n",
    "We ultimately want to write a function `is_3` that decide if an arbitrary image is a 3 or a 7\n",
    "It will do this by deciding which of our two \"ideal\" digits the arbitrary image is closer to\n",
    "We need to define a notion of distance - a function that calculate the distance between two images"
   ]
  },
  {
   "cell_type": "code",
   "execution_count": 17,
   "id": "d4053ca3-298e-4c77-b678-b95beb000f46",
   "metadata": {},
   "outputs": [
    {
     "data": {
      "text/plain": [
       "tensor(0.1114)"
      ]
     },
     "execution_count": 17,
     "metadata": {},
     "output_type": "execute_result"
    }
   ],
   "source": [
    "# L1 norm, absolute error\n",
    "# mean can accept a tuple, dim (int or tuple of ints) – the dimension or dimensions to reduce.\n",
    "\n",
    "# https://forums.fast.ai/t/understanding-mean-1-2-in-mnist-distance/84430\n",
    "\"\"\"\n",
    "The axis parameter can be int or tuple of ints. Those ints represent axes along which the means are computed. The default is to compute the mean of the flattened array (1).\n",
    "\n",
    "Negative ints are used to specify ‘count from last’. The axis -1 is equal to last axis (which in this case, axis 1) and -2 to one before last (which in this case, axis 0).\n",
    "\"\"\"\n",
    "def mnist_distance(a, b):\n",
    "    return (a - b).abs().mean((-1, -2))\n",
    "\n",
    "# a_3 is the arbitrary sample, mean_three is the \"ideal\" 3\n",
    "# both are single image tensors with shape [28, 28] (shape is the length of each axes)\n",
    "mnist_distance(a_3, mean_three)"
   ]
  },
  {
   "cell_type": "markdown",
   "id": "edb58d72-af30-4723-9d4f-c2f70c0271c6",
   "metadata": {},
   "source": [
    "In order to calculate a metric for overall accuracy, we need to calculate the distance to the ideal 3 for **every image in the validation set**\n",
    "\n",
    "How do we do this calculation? We could write a for loop over all the single image tensors that are stacked in our validation set tensor (valid_3_tensors) which has shape of [1010, 28, 28] representing 1010 images\n",
    "\n",
    "But there is a better way\n",
    "\n",
    "Something interesting happens when we take the exact same distance function, designed for comparing two single images but we pass in the argument valid_3_tensors (the tensor that represents the 3s validation set)"
   ]
  },
  {
   "cell_type": "code",
   "execution_count": 19,
   "id": "7b216f98-44db-4d96-8583-1229e8f4eb00",
   "metadata": {},
   "outputs": [
    {
     "data": {
      "text/plain": [
       "(tensor([0.1280, 0.1623, 0.1242,  ..., 0.1508, 0.1263, 0.1260]),\n",
       " torch.Size([1010]))"
      ]
     },
     "execution_count": 19,
     "metadata": {},
     "output_type": "execute_result"
    }
   ],
   "source": [
    "# we are doing mean((-1, -2)), so for [1010, 28, 28], we are taking mean across last 2 axis\n",
    "valid_3_dist = mnist_distance(valid_3_tensors, mean_three)\n",
    "valid_3_dist, valid_3_dist.shape"
   ]
  },
  {
   "cell_type": "markdown",
   "id": "8bfe54a3-69f2-4e3b-b7da-9e70e0cae988",
   "metadata": {},
   "source": [
    "Instead of complaining about shapes not matching between \"a\" and \"b\", it returned the distance for every single image as a vector (rank 1 tensor) of length 1010 (the number of 3s in the validation set)\n",
    "\n",
    "How?\n",
    "\n",
    "```python\n",
    "def mnist_distance(a, b):\n",
    "    return (a - b).abs().mean((-1, -2))\n",
    "```\n",
    "\n",
    "In \"mnist_distance\", there is `(a - b)`, PyTorch when trying in the subtraction operation between two tensors of different ranks, will use broadcasting\n",
    "Broadcasting is where it will automatically expand the tensor with the smaller rank (length of shape) (shape is the length of axes) to become the same size as the one with the larger rank\n",
    "- Makes tensor code much easier to write\n",
    "\n",
    "After broadcasting, the two tensors arguments will have the same rank, PyTorch will apply usual logic of two tensors of the same rank; performs the operation on each corresponding element of the two tensors, and return the tensor result\n",
    "\n",
    "`tensor([1,2,3]) + tensor(1)` will return `tensor([2,3,4])`\n",
    "- will expand the rank of `tensor(1)` to `tensor([1,1,1])` and then perform the addition\n",
    "\n",
    "In our mnist_distance case, PyTorch will treat `mean_three` as a rank 2 tensor representing a single image, as if it were 1010 copies of the same image, and then subtracts each of these copies from each 3 in our validation set\n",
    "What shape would you expect this tensor to have? \n",
    "Try to figure it out before looking at the answer below\n",
    "\n",
    "`(valid_3_tensors - mean_three).shape` will return `tensor([1010, 28, 28])`\n",
    "- mean_three will be broadcasted to have shape [1010, 28, 28], from [28, 28]\n",
    "- We will be calculating the difference between our \"ideal\" 3 and each of the 1010 3s in the validation set, for each 28x28 images. This results in shape [1010, 28, 28]\n",
    "\n",
    "There are a couple of important points about how broadcasting is implemented, which makes it valuable not just for expressivity but also for performance\n",
    "- PyTorch doesn't actually copy `mean_three` 1010 times. It pretends it were a tensor of that shape, but doesn't allocate any additional memory\n",
    "- It does the whole calculation in C (or if you are using GPU, in CUDA, the equivalent of C on the GPU), tens of thousands times faster than pure Python (up to millions of times faster on GPU)\n",
    "\n",
    "This is true for all broadcasting and elementwise operations and functions done in PyTorch\n",
    "Important for creating efficient PyTorch code\n",
    "\n",
    "Next in `mnist_distance` function is `abs`, when applied to a tensor, it applies the method to each individual element in the tensor and returns a tensor of the results (applies the method \"elementwise\")\n",
    "We get back 1010 matrices of absolute values\n",
    "\n",
    "Finally, the function calls `mean((-1, -2))`, the tuple `(-1, -2)` represents a range of axes\n",
    "In Python, `-1` refers to the last element, and `-2` refers to the second to last\n",
    "This tells PyTorch we want to take the mean ranging over the values indexed by the last two axes of the tensor\n",
    "The last two axes are the horizontal and vertical dimensions of an image\n",
    "After taking the mean over the last two axes, we are left with just the first tensor axis, which indexes over our images, which is why the final size was 1010.\n",
    "In other words, for each image, we averaged the intensity of all the pixels in that image\n",
    "\n",
    "We can use `mnist_distance` to figure out whether an image is a 3 or not by using the following logic:\n",
    "- If the distance between the digit in question and the ideal 3 is less than the distance to the ideal 7, then it is a 3\n",
    "- This function will automatically do broadcasting and be applied elementwise, just like all PyTorch functions and operators"
   ]
  },
  {
   "cell_type": "code",
   "execution_count": 20,
   "id": "e66ed275-83a9-4737-af41-e3f3470d07b7",
   "metadata": {},
   "outputs": [
    {
     "data": {
      "text/plain": [
       "(tensor(True), tensor(1.))"
      ]
     },
     "execution_count": 20,
     "metadata": {},
     "output_type": "execute_result"
    }
   ],
   "source": [
    "def is_3(x):\n",
    "    return mnist_distance(x, mean_three) < mnist_distance(x, mean_seven)\n",
    "\n",
    "# when converting the boolean response to float, we get 1.0 for True and 0.0 for False\n",
    "is_3(a_3), is_3(a_3).float()"
   ]
  },
  {
   "cell_type": "code",
   "execution_count": 21,
   "id": "85fb308f-013f-413a-a705-c5a5bdde2f3a",
   "metadata": {},
   "outputs": [
    {
     "data": {
      "text/plain": [
       "tensor([ True,  True,  True,  ..., False,  True,  True])"
      ]
     },
     "execution_count": 21,
     "metadata": {},
     "output_type": "execute_result"
    }
   ],
   "source": [
    "# using broadcasting, we can test over the entire validation set\n",
    "is_3(valid_3_tensors)"
   ]
  },
  {
   "cell_type": "code",
   "execution_count": 26,
   "id": "e47b393c-913e-49e2-8e28-ae4e26e153a6",
   "metadata": {},
   "outputs": [
    {
     "data": {
      "text/plain": [
       "(tensor(0.9168), tensor(0.9854), tensor(0.9511))"
      ]
     },
     "execution_count": 26,
     "metadata": {},
     "output_type": "execute_result"
    }
   ],
   "source": [
    "# calculate accuracy of each of the 3s and 7s, taking average of that function\n",
    "# for checking 7s, need to take accuracy as 1 - (is_3)\n",
    "accuracy_3s = is_3(valid_3_tensors).float().mean()\n",
    "accuracy_7s = (1 - is_3(valid_7_tensors).float()).mean()\n",
    "\n",
    "accuracy_3s, accuracy_7s, (accuracy_3s+accuracy_7s)/2"
   ]
  },
  {
   "cell_type": "markdown",
   "id": "7a3069aa-cb5e-42a7-8a82-b74375e645bc",
   "metadata": {},
   "source": [
    "This is an example of how to define a metric conveniently using broadcasting\n",
    "\n",
    "To do better, we need a system that can automatically modify itself to improve its performance\n",
    "Time to talk about the training process and Stochastic Gradient Descent (SGD)\n",
    "\n",
    "# Stochastic Gradient Descent (SGD)\n",
    "\n",
    "Do you remember the way that Arthur Samuel described machine learning, which we quoted in \"chapter_intro\"?\n",
    "\n",
    "    : Suppose we arrange for some automatic means of testing the effectiveness of any current weight assignment in terms of actual performance and provide a mechanism for altering the weight assignment so as to maximize the performance. We need not go into the details of such a procedure to see that it could be made entirely automatic and to see that a machine so programmed would \"learn\" from its experience.\n",
    "\n",
    "The pixel similarity approach does not allow for this. There is no weight assignment, or any way to improve based on testing the effectiveness of a weight assignment\n",
    "We can't improve our pixel similarity approach by modifying a set of parameters\n",
    "\n",
    "We have to first represent our task in the way that Arthur Samuel described it\n",
    "\n",
    "Instead of finding similarity between an image and an \"ideal image\", we could instead look at each individual pixel and come up with a set of weights for each one, such that the highest weights are associated with those pixels most likely to be black for a particular category\n",
    "e.g. pixels toward bottom right are not very likely to be activated for a 7, so they should have a low weight for a 7, and they should have a high weight for an 8\n",
    "\n",
    "This can be represented as a function and set of weight values for each possible category - e.g. probability of being the number 8\n",
    "```python\n",
    "def pr_eight(x, w):\n",
    "    # x is an image, represented as a vector\n",
    "    # w is the weight, represented as a vector\n",
    "    return (x * w).sum()\n",
    "```\n",
    "- Assuming that x is the image, represented as a vector - with all of the rows stacked up end to end into a single long line\n",
    "- Weights are a vector w\n",
    "- We need some way to update the weights to make it a bit better\n",
    "- We can then repeat this step a number of times, making the weights better and better, until they are as good as we can make them\n",
    "\n",
    "We want to find the specific values for the vector w so that the result of our function is high for those images that are actually 8s, and low for those images that are not\n",
    "Searching for the best vector w is a way to search for the best function for recognising 8s (because we are not yet using a deep neural network, we are limited by what our function can actually do - we are going to fix that constraint later in this chapter)\n",
    "\n",
    "Here are the steps we are going to require, to turn this function into a machine learning classifier\n",
    "1) Initialize the weights\n",
    "2) For each image, use these weights to predict whether it appears to be a 3 or 7\n",
    "3) Based on these predictions, calculate how good the model is (its loss)\n",
    "4) Calculate the gradient, which measure for each weight, how changing that weight would change the loss\n",
    "5) Step (change) all the weights based on that calculation (in step 4)\n",
    "6) Go back to step 2, and repeat the process\n",
    "7) Iterate until you decide to step the training process (e.g. because the model is good enough or you don't want to wait any longer)\n",
    "\n",
    "These steps are the key to training of all deep learning models\n",
    "\n",
    "The general approach to each one generally follows some basic principles. Here are a few guidelines:\n",
    "- **Initialize**: We init the parameters to random values. Since we know that we have a routine to improve these weight, just starting with random weights works well. e.g. we could also init them to the percentage of times that pixel is activated for that category\n",
    "- **Loss**: This is what is refered by Samuel as \"testing the effectiveness of any current weight assignment in terms of actual performance\". We need some function that will return some number that is small if the performance of the model is good and large when the performance is worse. (standard approach is to treat small loss as good, large loss as bad (just a convention))\n",
    "- **Step**: Simple way to figure out whether a weight should be increased a bit or decreased a bit, is to just try it. Increase / decrease by a small amount and see if the loss goes up or down. However this can be slow! The magic of calculus will allow us to figure out in which direction, and by roughly by how much, without having to try all these small changes (CALCULATE GRADIENTS)\n",
    "- **Stop**: Once we have decided how many epochs to train the model, we apply that decision. For our digit classifier, we would keep training until the accuracy of the model started getting worse, or we ran out of time"
   ]
  },
  {
   "cell_type": "code",
   "execution_count": 36,
   "id": "f7a3c4cf-b5df-4e1d-b8c7-9a6a83a3f8e7",
   "metadata": {},
   "outputs": [
    {
     "data": {
      "image/png": "[encoded data removed]",
      "text/plain": [
       "<Figure size 600x400 with 1 Axes>"
      ]
     },
     "metadata": {},
     "output_type": "display_data"
    }
   ],
   "source": [
    "# E.g. with quadratic function\n",
    "from fastbook import *\n",
    "\n",
    "def f(x):\n",
    "    return x**2\n",
    "# where f(x) is the loss function, and x is a weight parameter of the function\n",
    "plot_function(f, \"x\", \"x**2\")"
   ]
  },
  {
   "cell_type": "code",
   "execution_count": 37,
   "id": "927dd2ad-b062-4c37-a57f-5de24826deb0",
   "metadata": {},
   "outputs": [
    {
     "data": {
      "text/plain": [
       "<matplotlib.collections.PathCollection at 0x1d225ff0650>"
      ]
     },
     "execution_count": 37,
     "metadata": {},
     "output_type": "execute_result"
    },
    {
     "data": {
      "image/png": "[encoded data removed]",
      "text/plain": [
       "<Figure size 600x400 with 1 Axes>"
      ]
     },
     "metadata": {},
     "output_type": "display_data"
    }
   ],
   "source": [
    "# The first step is to get a random initializer number for the weights, and calculate the loss value\n",
    "plot_function(f, \"x\", \"x**2\")\n",
    "plt.scatter(-1.5, f(-1.5), color=\"red\")\n",
    "\n",
    "# we can increase and decrease the adjustment, by some factor of the slope at a particular point\n",
    "# we can change our weight a little in the direction of the slope, calculate the loss and adjustment again, \n",
    "# and repeat this a few times, we will approach the lowest point on our curve\n",
    "\n",
    "# to make this process faster, there are some ways in the book that we will see later, \n",
    "# that can allow us to choose better steps"
   ]
  }
 ],
 "metadata": {
  "kernelspec": {
   "display_name": "Python 3 (ipykernel)",
   "language": "python",
   "name": "python3"
  },
  "language_info": {
   "codemirror_mode": {
    "name": "ipython",
    "version": 3
   },
   "file_extension": ".py",
   "mimetype": "text/x-python",
   "name": "python",
   "nbconvert_exporter": "python",
   "pygments_lexer": "ipython3",
   "version": "3.11.6"
  }
 },
 "nbformat": 4,
 "nbformat_minor": 5
}
